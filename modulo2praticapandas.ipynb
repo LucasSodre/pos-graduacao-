{
 "cells": [
  {
   "cell_type": "code",
   "execution_count": 3,
   "metadata": {},
   "outputs": [],
   "source": [
    "# Importando as bibliotecas do Python\n",
    "import numpy as np\n",
    "import scipy as sp\n",
    "import pandas as pd\n",
    "import matplotlib.pyplot as plt\n",
    "import seaborn as sns"
   ]
  },
  {
   "cell_type": "code",
   "execution_count": 4,
   "metadata": {},
   "outputs": [],
   "source": [
    "# Lendo o arquivo CSV\n",
    "df = pd.read_csv(\"Salaries.csv\")"
   ]
  },
  {
   "cell_type": "code",
   "execution_count": 6,
   "metadata": {},
   "outputs": [
    {
     "data": {
      "text/plain": [
       "rank          object\n",
       "discipline    object\n",
       "phd            int64\n",
       "service        int64\n",
       "sex           object\n",
       "salary         int64\n",
       "dtype: object"
      ]
     },
     "execution_count": 6,
     "metadata": {},
     "output_type": "execute_result"
    }
   ],
   "source": [
    "df.dtypes"
   ]
  },
  {
   "cell_type": "code",
   "execution_count": 7,
   "metadata": {},
   "outputs": [
    {
     "data": {
      "text/plain": [
       "Index([u'rank', u'discipline', u'phd', u'service', u'sex', u'salary'], dtype='object')"
      ]
     },
     "execution_count": 7,
     "metadata": {},
     "output_type": "execute_result"
    }
   ],
   "source": [
    "df.columns"
   ]
  },
  {
   "cell_type": "code",
   "execution_count": 8,
   "metadata": {},
   "outputs": [
    {
     "data": {
      "text/plain": [
       "[RangeIndex(start=0, stop=78, step=1),\n",
       " Index([u'rank', u'discipline', u'phd', u'service', u'sex', u'salary'], dtype='object')]"
      ]
     },
     "execution_count": 8,
     "metadata": {},
     "output_type": "execute_result"
    }
   ],
   "source": [
    "df.axes"
   ]
  },
  {
   "cell_type": "code",
   "execution_count": 9,
   "metadata": {},
   "outputs": [
    {
     "data": {
      "text/plain": [
       "2"
      ]
     },
     "execution_count": 9,
     "metadata": {},
     "output_type": "execute_result"
    }
   ],
   "source": [
    "df.ndim"
   ]
  },
  {
   "cell_type": "code",
   "execution_count": 10,
   "metadata": {},
   "outputs": [
    {
     "data": {
      "text/plain": [
       "468"
      ]
     },
     "execution_count": 10,
     "metadata": {},
     "output_type": "execute_result"
    }
   ],
   "source": [
    "df.size"
   ]
  },
  {
   "cell_type": "code",
   "execution_count": 12,
   "metadata": {},
   "outputs": [
    {
     "data": {
      "text/plain": [
       "(78, 6)"
      ]
     },
     "execution_count": 12,
     "metadata": {},
     "output_type": "execute_result"
    }
   ],
   "source": [
    "df.shape"
   ]
  },
  {
   "cell_type": "code",
   "execution_count": 13,
   "metadata": {},
   "outputs": [
    {
     "data": {
      "text/plain": [
       "array([['Prof', 'B', 56L, 49L, 'Male', 186960L],\n",
       "       ['Prof', 'A', 12L, 6L, 'Male', 93000L],\n",
       "       ['Prof', 'A', 23L, 20L, 'Male', 110515L],\n",
       "       ['Prof', 'A', 40L, 31L, 'Male', 131205L],\n",
       "       ['Prof', 'B', 20L, 18L, 'Male', 104800L],\n",
       "       ['Prof', 'A', 20L, 20L, 'Male', 122400L],\n",
       "       ['AssocProf', 'A', 20L, 17L, 'Male', 81285L],\n",
       "       ['Prof', 'A', 18L, 18L, 'Male', 126300L],\n",
       "       ['Prof', 'A', 29L, 19L, 'Male', 94350L],\n",
       "       ['Prof', 'A', 51L, 51L, 'Male', 57800L],\n",
       "       ['Prof', 'B', 39L, 33L, 'Male', 128250L],\n",
       "       ['Prof', 'B', 23L, 23L, 'Male', 134778L],\n",
       "       ['AsstProf', 'B', 1L, 0L, 'Male', 88000L],\n",
       "       ['Prof', 'B', 35L, 33L, 'Male', 162200L],\n",
       "       ['Prof', 'B', 25L, 19L, 'Male', 153750L],\n",
       "       ['Prof', 'B', 17L, 3L, 'Male', 150480L],\n",
       "       ['AsstProf', 'B', 8L, 3L, 'Male', 75044L],\n",
       "       ['AsstProf', 'B', 4L, 0L, 'Male', 92000L],\n",
       "       ['Prof', 'A', 19L, 7L, 'Male', 107300L],\n",
       "       ['Prof', 'A', 29L, 27L, 'Male', 150500L],\n",
       "       ['AsstProf', 'B', 4L, 4L, 'Male', 92000L],\n",
       "       ['Prof', 'A', 33L, 30L, 'Male', 103106L],\n",
       "       ['AsstProf', 'A', 4L, 2L, 'Male', 73000L],\n",
       "       ['AsstProf', 'A', 2L, 0L, 'Male', 85000L],\n",
       "       ['Prof', 'A', 30L, 23L, 'Male', 91100L],\n",
       "       ['Prof', 'B', 35L, 31L, 'Male', 99418L],\n",
       "       ['Prof', 'A', 38L, 19L, 'Male', 148750L],\n",
       "       ['Prof', 'A', 45L, 43L, 'Male', 155865L],\n",
       "       ['AsstProf', 'B', 7L, 2L, 'Male', 91300L],\n",
       "       ['Prof', 'B', 21L, 20L, 'Male', 123683L],\n",
       "       ['AssocProf', 'B', 9L, 7L, 'Male', 107008L],\n",
       "       ['Prof', 'B', 22L, 21L, 'Male', 155750L],\n",
       "       ['Prof', 'A', 27L, 19L, 'Male', 103275L],\n",
       "       ['Prof', 'B', 18L, 18L, 'Male', 120000L],\n",
       "       ['AssocProf', 'B', 12L, 8L, 'Male', 119800L],\n",
       "       ['Prof', 'B', 28L, 23L, 'Male', 126933L],\n",
       "       ['Prof', 'B', 45L, 45L, 'Male', 146856L],\n",
       "       ['Prof', 'A', 20L, 8L, 'Male', 102000L],\n",
       "       ['AsstProf', 'B', 4L, 3L, 'Male', 91000L],\n",
       "       ['Prof', 'B', 18L, 18L, 'Female', 129000L],\n",
       "       ['Prof', 'A', 39L, 36L, 'Female', 137000L],\n",
       "       ['AssocProf', 'A', 13L, 8L, 'Female', 74830L],\n",
       "       ['AsstProf', 'B', 4L, 2L, 'Female', 80225L],\n",
       "       ['AsstProf', 'B', 5L, 0L, 'Female', 77000L],\n",
       "       ['Prof', 'B', 23L, 19L, 'Female', 151768L],\n",
       "       ['Prof', 'B', 25L, 25L, 'Female', 140096L],\n",
       "       ['AsstProf', 'B', 11L, 3L, 'Female', 74692L],\n",
       "       ['AssocProf', 'B', 11L, 11L, 'Female', 103613L],\n",
       "       ['Prof', 'B', 17L, 17L, 'Female', 111512L],\n",
       "       ['Prof', 'B', 17L, 18L, 'Female', 122960L],\n",
       "       ['AsstProf', 'B', 10L, 5L, 'Female', 97032L],\n",
       "       ['Prof', 'B', 20L, 14L, 'Female', 127512L],\n",
       "       ['Prof', 'A', 12L, 0L, 'Female', 105000L],\n",
       "       ['AsstProf', 'A', 5L, 3L, 'Female', 73500L],\n",
       "       ['AssocProf', 'A', 25L, 22L, 'Female', 62884L],\n",
       "       ['AsstProf', 'A', 2L, 0L, 'Female', 72500L],\n",
       "       ['AssocProf', 'A', 10L, 8L, 'Female', 77500L],\n",
       "       ['AsstProf', 'A', 3L, 1L, 'Female', 72500L],\n",
       "       ['Prof', 'B', 36L, 26L, 'Female', 144651L],\n",
       "       ['AssocProf', 'B', 12L, 10L, 'Female', 103994L],\n",
       "       ['AsstProf', 'B', 3L, 3L, 'Female', 92000L],\n",
       "       ['AssocProf', 'B', 13L, 10L, 'Female', 103750L],\n",
       "       ['AssocProf', 'B', 14L, 7L, 'Female', 109650L],\n",
       "       ['Prof', 'A', 29L, 27L, 'Female', 91000L],\n",
       "       ['AssocProf', 'A', 26L, 24L, 'Female', 73300L],\n",
       "       ['Prof', 'A', 36L, 19L, 'Female', 117555L],\n",
       "       ['AsstProf', 'A', 7L, 6L, 'Female', 63100L],\n",
       "       ['Prof', 'A', 17L, 11L, 'Female', 90450L],\n",
       "       ['AsstProf', 'A', 4L, 2L, 'Female', 77500L],\n",
       "       ['Prof', 'A', 28L, 7L, 'Female', 116450L],\n",
       "       ['AsstProf', 'A', 8L, 3L, 'Female', 78500L],\n",
       "       ['AssocProf', 'B', 12L, 9L, 'Female', 71065L],\n",
       "       ['Prof', 'B', 24L, 15L, 'Female', 161101L],\n",
       "       ['Prof', 'B', 18L, 10L, 'Female', 105450L],\n",
       "       ['AssocProf', 'B', 19L, 6L, 'Female', 104542L],\n",
       "       ['Prof', 'B', 17L, 17L, 'Female', 124312L],\n",
       "       ['Prof', 'A', 28L, 14L, 'Female', 109954L],\n",
       "       ['Prof', 'A', 23L, 15L, 'Female', 109646L]], dtype=object)"
      ]
     },
     "execution_count": 13,
     "metadata": {},
     "output_type": "execute_result"
    }
   ],
   "source": [
    "df.values"
   ]
  },
  {
   "cell_type": "code",
   "execution_count": 14,
   "metadata": {},
   "outputs": [
    {
     "data": {
      "text/plain": [
       "0       Male\n",
       "1       Male\n",
       "2       Male\n",
       "3       Male\n",
       "4       Male\n",
       "5       Male\n",
       "6       Male\n",
       "7       Male\n",
       "8       Male\n",
       "9       Male\n",
       "10      Male\n",
       "11      Male\n",
       "12      Male\n",
       "13      Male\n",
       "14      Male\n",
       "15      Male\n",
       "16      Male\n",
       "17      Male\n",
       "18      Male\n",
       "19      Male\n",
       "20      Male\n",
       "21      Male\n",
       "22      Male\n",
       "23      Male\n",
       "24      Male\n",
       "25      Male\n",
       "26      Male\n",
       "27      Male\n",
       "28      Male\n",
       "29      Male\n",
       "       ...  \n",
       "48    Female\n",
       "49    Female\n",
       "50    Female\n",
       "51    Female\n",
       "52    Female\n",
       "53    Female\n",
       "54    Female\n",
       "55    Female\n",
       "56    Female\n",
       "57    Female\n",
       "58    Female\n",
       "59    Female\n",
       "60    Female\n",
       "61    Female\n",
       "62    Female\n",
       "63    Female\n",
       "64    Female\n",
       "65    Female\n",
       "66    Female\n",
       "67    Female\n",
       "68    Female\n",
       "69    Female\n",
       "70    Female\n",
       "71    Female\n",
       "72    Female\n",
       "73    Female\n",
       "74    Female\n",
       "75    Female\n",
       "76    Female\n",
       "77    Female\n",
       "Name: sex, Length: 78, dtype: object"
      ]
     },
     "execution_count": 14,
     "metadata": {},
     "output_type": "execute_result"
    }
   ],
   "source": [
    "df['sex'] #objeto tipo data datafreme mais poderozo pode fazer mais coisas com ele"
   ]
  },
  {
   "cell_type": "code",
   "execution_count": 15,
   "metadata": {},
   "outputs": [
    {
     "data": {
      "text/plain": [
       "0       Male\n",
       "1       Male\n",
       "2       Male\n",
       "3       Male\n",
       "4       Male\n",
       "5       Male\n",
       "6       Male\n",
       "7       Male\n",
       "8       Male\n",
       "9       Male\n",
       "10      Male\n",
       "11      Male\n",
       "12      Male\n",
       "13      Male\n",
       "14      Male\n",
       "15      Male\n",
       "16      Male\n",
       "17      Male\n",
       "18      Male\n",
       "19      Male\n",
       "20      Male\n",
       "21      Male\n",
       "22      Male\n",
       "23      Male\n",
       "24      Male\n",
       "25      Male\n",
       "26      Male\n",
       "27      Male\n",
       "28      Male\n",
       "29      Male\n",
       "       ...  \n",
       "48    Female\n",
       "49    Female\n",
       "50    Female\n",
       "51    Female\n",
       "52    Female\n",
       "53    Female\n",
       "54    Female\n",
       "55    Female\n",
       "56    Female\n",
       "57    Female\n",
       "58    Female\n",
       "59    Female\n",
       "60    Female\n",
       "61    Female\n",
       "62    Female\n",
       "63    Female\n",
       "64    Female\n",
       "65    Female\n",
       "66    Female\n",
       "67    Female\n",
       "68    Female\n",
       "69    Female\n",
       "70    Female\n",
       "71    Female\n",
       "72    Female\n",
       "73    Female\n",
       "74    Female\n",
       "75    Female\n",
       "76    Female\n",
       "77    Female\n",
       "Name: sex, Length: 78, dtype: object"
      ]
     },
     "execution_count": 15,
     "metadata": {},
     "output_type": "execute_result"
    }
   ],
   "source": [
    "df.sex # atributo do tipo serie mais fraco"
   ]
  },
  {
   "cell_type": "code",
   "execution_count": null,
   "metadata": {},
   "outputs": [],
   "source": []
  }
 ],
 "metadata": {
  "kernelspec": {
   "display_name": "Python 2",
   "language": "python",
   "name": "python2"
  },
  "language_info": {
   "codemirror_mode": {
    "name": "ipython",
    "version": 2
   },
   "file_extension": ".py",
   "mimetype": "text/x-python",
   "name": "python",
   "nbconvert_exporter": "python",
   "pygments_lexer": "ipython2",
   "version": "2.7.15"
  }
 },
 "nbformat": 4,
 "nbformat_minor": 2
}
